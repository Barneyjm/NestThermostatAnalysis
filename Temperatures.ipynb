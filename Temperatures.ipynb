{
 "cells": [
  {
   "cell_type": "code",
   "execution_count": 77,
   "metadata": {},
   "outputs": [],
   "source": [
    "import numpy\n",
    "import pandas as pd\n",
    "from glob import glob"
   ]
  },
  {
   "cell_type": "code",
   "execution_count": 142,
   "metadata": {},
   "outputs": [],
   "source": [
    "def compute_daily_slope(temp_file):\n",
    "    temps = pd.read_csv(temp_file)\n",
    "    # 1am (hot) to 11am (cold) is usually the most dramatic \"warmest to coldest\" temp differential.\n",
    "    # computing the slope between those two times gives a \"per hour temperature change\" value\n",
    "    one_oclocks = temps.where(temps['Time'] == '01:00').dropna(how='all').add_prefix('01_').reset_index()\n",
    "    eleven_oclocks = temps.where(temps['Time'] == '11:00').dropna(how='all').add_prefix('11_').reset_index()\n",
    "    df = pd.concat([one_oclocks, eleven_oclocks], axis=1)\n",
    "    df['slopes'] = (df['11_avg(temp)'] - df['01_avg(temp)']) / (11-1) #10 hours between 11 and 1\n",
    "    return df"
   ]
  },
  {
   "cell_type": "code",
   "execution_count": null,
   "metadata": {},
   "outputs": [],
   "source": [
    "def compute_monthly_averages(files):\n",
    "    # monthly averages are fun to look at\n",
    "    for f in files:\n",
    "        try:\n",
    "            new = compute_daily_slope(f)\n",
    "            monthly_slope = new['slopes'].mean()\n",
    "            print(f.split('/')[1], '-'.join(f.split('/')[2:4]), monthly_slope)\n",
    "        except pd.io.common.EmptyDataError:\n",
    "            continue"
   ]
  },
  {
   "cell_type": "code",
   "execution_count": null,
   "metadata": {},
   "outputs": [],
   "source": [
    "def combine_all_files(files):\n",
    "    # combines all the nest data files into one big file so we can really cripple your computer\n",
    "    dfs = [pd.read_csv(f, index_col=[0], parse_dates=[0]) for f in files]\n",
    "    return pd.concat(dfs, axis=0, join='outer').sort_index()"
   ]
  },
  {
   "cell_type": "code",
   "execution_count": 186,
   "metadata": {},
   "outputs": [],
   "source": [
    "def output_plottable_daily(files):\n",
    "    # outputs a dataframe with only \"Date\" and \"slope\" so you can plot over time\n",
    "    dailies = [compute_daily_slope(f) for f in files]\n",
    "    f_dailies = pd.concat(dailies, axis=0, join='outer').sort_index()\n",
    "    return f_dailies[['01_Date', 'slopes']]"
   ]
  },
  {
   "cell_type": "code",
   "execution_count": 188,
   "metadata": {},
   "outputs": [
    {
     "data": {
      "text/html": [
       "<div>\n",
       "<style scoped>\n",
       "    .dataframe tbody tr th:only-of-type {\n",
       "        vertical-align: middle;\n",
       "    }\n",
       "\n",
       "    .dataframe tbody tr th {\n",
       "        vertical-align: top;\n",
       "    }\n",
       "\n",
       "    .dataframe thead th {\n",
       "        text-align: right;\n",
       "    }\n",
       "</style>\n",
       "<table border=\"1\" class=\"dataframe\">\n",
       "  <thead>\n",
       "    <tr style=\"text-align: right;\">\n",
       "      <th></th>\n",
       "      <th>slopes</th>\n",
       "    </tr>\n",
       "  </thead>\n",
       "  <tbody>\n",
       "    <tr>\n",
       "      <th>count</th>\n",
       "      <td>1068.000000</td>\n",
       "    </tr>\n",
       "    <tr>\n",
       "      <th>mean</th>\n",
       "      <td>-0.138516</td>\n",
       "    </tr>\n",
       "    <tr>\n",
       "      <th>std</th>\n",
       "      <td>0.104437</td>\n",
       "    </tr>\n",
       "    <tr>\n",
       "      <th>min</th>\n",
       "      <td>-0.594000</td>\n",
       "    </tr>\n",
       "    <tr>\n",
       "      <th>25%</th>\n",
       "      <td>-0.198000</td>\n",
       "    </tr>\n",
       "    <tr>\n",
       "      <th>50%</th>\n",
       "      <td>-0.134000</td>\n",
       "    </tr>\n",
       "    <tr>\n",
       "      <th>75%</th>\n",
       "      <td>-0.062000</td>\n",
       "    </tr>\n",
       "    <tr>\n",
       "      <th>max</th>\n",
       "      <td>0.179000</td>\n",
       "    </tr>\n",
       "  </tbody>\n",
       "</table>\n",
       "</div>"
      ],
      "text/plain": [
       "            slopes\n",
       "count  1068.000000\n",
       "mean     -0.138516\n",
       "std       0.104437\n",
       "min      -0.594000\n",
       "25%      -0.198000\n",
       "50%      -0.134000\n",
       "75%      -0.062000\n",
       "max       0.179000"
      ]
     },
     "execution_count": 188,
     "metadata": {},
     "output_type": "execute_result"
    }
   ],
   "source": [
    "# assuming your Nest export data files are in standard google format and next to this notebook\n",
    "files = glob('thermostats/*/*/*/*.csv')\n",
    "df = output_plottable_daily(files)\n",
    "df.describe()\n",
    "#df.to_csv('some/path/file.csv')"
   ]
  },
  {
   "cell_type": "code",
   "execution_count": null,
   "metadata": {},
   "outputs": [],
   "source": []
  }
 ],
 "metadata": {
  "kernelspec": {
   "display_name": "Python 3",
   "language": "python",
   "name": "python3"
  },
  "language_info": {
   "codemirror_mode": {
    "name": "ipython",
    "version": 3
   },
   "file_extension": ".py",
   "mimetype": "text/x-python",
   "name": "python",
   "nbconvert_exporter": "python",
   "pygments_lexer": "ipython3",
   "version": "3.7.6"
  }
 },
 "nbformat": 4,
 "nbformat_minor": 4
}
